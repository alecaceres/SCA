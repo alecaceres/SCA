{
 "cells": [
  {
   "cell_type": "markdown",
   "metadata": {},
   "source": [
    "![image.png](../img/Clase8_Ej1_fig1.png)"
   ]
  },
  {
   "cell_type": "code",
   "execution_count": 24,
   "metadata": {},
   "outputs": [],
   "source": [
    "from control.matlab import *\n",
    "from numpy.linalg import matrix_rank as rank\n",
    "from numpy import zeros\n",
    "from matplotlib import pyplot as plt"
   ]
  },
  {
   "cell_type": "markdown",
   "metadata": {},
   "source": [
    "### Ejercicio parte a)\n",
    "#### Carga del sistema"
   ]
  },
  {
   "cell_type": "code",
   "execution_count": 2,
   "metadata": {},
   "outputs": [],
   "source": [
    "A = [[-1,-2,-2],[0,-1,1],[1,0,-1]]\n",
    "B = [[2],[0],[1]]\n",
    "C = [1,1,0]\n",
    "D = 0\n",
    "poles = [-1+2*1j, -1-2*1j, -6]"
   ]
  },
  {
   "cell_type": "markdown",
   "metadata": {},
   "source": [
    "#### Verificación de controlabilidad"
   ]
  },
  {
   "cell_type": "code",
   "execution_count": 5,
   "metadata": {},
   "outputs": [
    {
     "name": "stdout",
     "output_type": "stream",
     "text": [
      "es controlable\n"
     ]
    }
   ],
   "source": [
    "decision = '' if rank(ctrb(A,B)) == len(A) else \"no \"\n",
    "print(f\"{decision}es controlable\")"
   ]
  },
  {
   "cell_type": "markdown",
   "metadata": {},
   "source": [
    "#### Hallar K a través de la función acker"
   ]
  },
  {
   "cell_type": "code",
   "execution_count": 7,
   "metadata": {},
   "outputs": [
    {
     "name": "stdout",
     "output_type": "stream",
     "text": [
      "[[ 3.4 12.4 -1.8]]\n"
     ]
    }
   ],
   "source": [
    "K = acker(A,B,poles)\n",
    "print(K)"
   ]
  },
  {
   "cell_type": "markdown",
   "metadata": {},
   "source": [
    "### Ejercicio parte b)\n",
    "#### Carga del sistema"
   ]
  },
  {
   "cell_type": "code",
   "execution_count": 8,
   "metadata": {},
   "outputs": [],
   "source": [
    "A = [[2,0,0],[0,2,0],[0,3,1]]\n",
    "B = [[0,1],[1,0],[0,1]]\n",
    "C = [[1,0,0],[0,1,0]]\n",
    "D = 0"
   ]
  },
  {
   "cell_type": "markdown",
   "metadata": {},
   "source": [
    "#### Se halla la K\n",
    "El valor de la K puede variar porque pueden haber varios valores que cumplen con los requisitos para los polos deseados"
   ]
  },
  {
   "cell_type": "code",
   "execution_count": 22,
   "metadata": {},
   "outputs": [
    {
     "name": "stdout",
     "output_type": "stream",
     "text": [
      "Primer valor\n",
      "[[-2.97329058  5.5330551   3.49073034]\n",
      " [ 4.56221081  1.70546321  2.90473409]]\n",
      "\n",
      "Segundo valor\n",
      "[[ 3.22744397  9.1353582   2.64916914]\n",
      " [ 5.21394975 -0.57827484 -1.34930795]]\n"
     ]
    }
   ],
   "source": [
    "print(\"Primer valor\")\n",
    "K1 = place(A,B,poles)\n",
    "print(K1)\n",
    "print(\"\\nSegundo valor\")\n",
    "K2 = place_varga(A,B,poles)\n",
    "print(K2)"
   ]
  },
  {
   "cell_type": "markdown",
   "metadata": {},
   "source": [
    "Se tiene el sistema:  \n",
    "$\\dot{x}=A\\cdot x+B\\cdot u$\n",
    "\n",
    "Pero sabemos que:  \n",
    "$u = -K\\cdot x$\n",
    "\n",
    "Reemplazamos en la ecuación del sistema  \n",
    "$\\dot{x}=A\\cdot x+B\\cdot (-K\\cdot x)$\n",
    "\n",
    "Al final agrupamos de la siguiente forma:\n",
    "$\\dot{x}=(A-B\\cdot K)\\cdot x$\n",
    "\n",
    "Ahora podemos decir que $A-B\\cdot K$ es nuestra nueva $A'$ y suponemos una $B' = \\begin{bmatrix} 0 & 0\\\\0 & 0\\\\0 & 0 \\end{bmatrix}$\n",
    "\n",
    "por lo que nuestro nuevo sistema quedará así:  \n",
    "$\\dot{x}=A'\\cdot x+B'\\cdot u = (A-B\\cdot K)\\cdot x + B'\\cdot u$\n",
    "\n",
    "Con dicho sistema se procede a la verificación:"
   ]
  },
  {
   "cell_type": "code",
   "execution_count": 26,
   "metadata": {},
   "outputs": [
    {
     "name": "stdout",
     "output_type": "stream",
     "text": [
      "Polos deseados\n",
      "\n",
      "Primera opción:\n",
      "[-6.+0.j -1.+2.j -1.-2.j]\n",
      "\n",
      "Segunda opción:\n",
      "[-1.+2.j -1.-2.j -6.+0.j]\n"
     ]
    }
   ],
   "source": [
    "A_prima1 = A-B*K1\n",
    "B_prima1 = zeros((3,2))\n",
    "\n",
    "A_prima2 = A-B*K2\n",
    "B_prima2 = zeros((3,2))\n",
    "\n",
    "sys1 = ss(A_prima1,B_prima1,C,D)\n",
    "sys2 = ss(A_prima2,B_prima2,C,D)\n",
    "\n",
    "print(\"Polos deseados\")\n",
    "print(\"\\nPrimera opción:\")\n",
    "print(pole(sys1))\n",
    "print(\"\\nSegunda opción:\")\n",
    "print(pole(sys2))"
   ]
  }
 ],
 "metadata": {
  "kernelspec": {
   "display_name": "Python 3",
   "language": "python",
   "name": "python3"
  },
  "language_info": {
   "codemirror_mode": {
    "name": "ipython",
    "version": 3
   },
   "file_extension": ".py",
   "mimetype": "text/x-python",
   "name": "python",
   "nbconvert_exporter": "python",
   "pygments_lexer": "ipython3",
   "version": "3.8.2"
  }
 },
 "nbformat": 4,
 "nbformat_minor": 4
}
